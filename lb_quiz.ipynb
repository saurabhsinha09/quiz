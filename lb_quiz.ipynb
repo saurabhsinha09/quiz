{
 "cells": [
  {
   "cell_type": "markdown",
   "id": "7e328b99",
   "metadata": {},
   "source": [
    "# Use case of openweathermap api"
   ]
  },
  {
   "cell_type": "code",
   "execution_count": 1,
   "id": "9fa29bbe",
   "metadata": {},
   "outputs": [],
   "source": [
    "#Installing dependent libraries\n",
    "#pip install bokeh\n",
    "#pip install pandas\n",
    "#pip install requests"
   ]
  },
  {
   "cell_type": "code",
   "execution_count": 2,
   "id": "f9bf9032",
   "metadata": {},
   "outputs": [],
   "source": [
    "import os, requests, json, datetime"
   ]
  },
  {
   "cell_type": "code",
   "execution_count": 3,
   "id": "e856b541",
   "metadata": {},
   "outputs": [],
   "source": [
    "#Create environment variable API_KEY\n",
    "#and store weathermap api key\n",
    "#Use as session variable in api_key\n",
    "api_key = os.environ['API_KEY']\n",
    "\n",
    "#for testing\n",
    "#api_key = \"2de244b5ee3e211ad563eb27595d9d7d\""
   ]
  },
  {
   "cell_type": "markdown",
   "id": "466932f2",
   "metadata": {},
   "source": [
    "## Current weather data of City"
   ]
  },
  {
   "cell_type": "code",
   "execution_count": 4,
   "id": "76876cf2",
   "metadata": {},
   "outputs": [
    {
     "name": "stdout",
     "output_type": "stream",
     "text": [
      "Enter city name : London\n",
      "Temperature (in kelvin unit) =  283.7\n",
      "Atmospheric pressure (in hPa unit) =  1019\n",
      "Humidity (in percentage) =  91\n",
      "Weather description =  overcast clouds\n"
     ]
    }
   ],
   "source": [
    "#Find current weather details of any city\n",
    "#using openweathermap api\n",
    "\n",
    "#base_url variable to store openweathermap api\n",
    "base_url = \"http://api.openweathermap.org/data/2.5/\"\n",
    " \n",
    "#City name\n",
    "city_name = input(\"Enter city name : \")\n",
    " \n",
    "#Complete url address\n",
    "complete_url = base_url + \"weather?\" + \"appid=\" + api_key + \"&q=\" + city_name\n",
    "#print(complete_url)\n",
    "\n",
    "#current weather details\n",
    "current = requests.get(complete_url)\n",
    " \n",
    "#json method to convert \n",
    "#json data into python dictonary\n",
    "curr_weather = current.json()\n",
    "\n",
    "#Longitude and Lattitude of Input city\n",
    "lon = curr_weather['coord']['lon']\n",
    "lat = curr_weather['coord']['lat']\n",
    "\n",
    "#Verfiy city is found or not\n",
    "#The value of \"cod\" key is equal to\n",
    "#\"404\", means city is not found\n",
    "#otherwise found\n",
    "\n",
    "if curr_weather[\"cod\"] != \"404\":\n",
    " \n",
    "    #store the value of \"main\"\n",
    "    main = curr_weather[\"main\"]\n",
    " \n",
    "    #Temparature\n",
    "    current_temperature = main[\"temp\"]\n",
    " \n",
    "    #Pressure\n",
    "    current_pressure = main[\"pressure\"]\n",
    " \n",
    "    #Humidity\n",
    "    current_humidity = main[\"humidity\"]\n",
    " \n",
    "    #The value of \"weather\" key\n",
    "    wth = curr_weather[\"weather\"]\n",
    " \n",
    "    #Weather description\n",
    "    weather_description = wth[0][\"description\"]\n",
    " \n",
    "    # print following values\n",
    "    print(\"Temperature (in kelvin unit) = \", str(current_temperature))\n",
    "    print(\"Atmospheric pressure (in hPa unit) = \", str(current_pressure))\n",
    "    print(\"Humidity (in percentage) = \", str(current_humidity))\n",
    "    print(\"Weather description = \", str(weather_description))\n",
    " \n",
    "else:\n",
    "    print(\" City not found in list\")"
   ]
  },
  {
   "cell_type": "markdown",
   "id": "d57c77be",
   "metadata": {},
   "source": [
    "## Current and forecast weather data"
   ]
  },
  {
   "cell_type": "code",
   "execution_count": 5,
   "id": "7c8222ef",
   "metadata": {},
   "outputs": [],
   "source": [
    "#Find current and forecasted weather details \n",
    "#of any city for next 5 days\n",
    "#using openweathermap api\n",
    "\n",
    "#exclude - This parameter you can exclude some parts \n",
    "#of the weather data from the API response\n",
    "#values - current,minutely,hourly,daily, alerts\n",
    "exl = 'minutely,hourly' \n",
    "\n",
    "#Complete url address\n",
    "complete_url = base_url + \"onecall?\" + \"appid=\" + api_key + \"&lat=\" + str(lat) + \"&lon=\" + str(lon) + \"&exclude=\" + exl\n",
    "\n",
    "onecall = requests.get(complete_url)\n",
    "\n",
    "current_forecast = onecall.json()\n",
    "#print(current_forecast)"
   ]
  },
  {
   "cell_type": "code",
   "execution_count": 6,
   "id": "16372a8a",
   "metadata": {},
   "outputs": [
    {
     "name": "stdout",
     "output_type": "stream",
     "text": [
      "Date =  2022-05-12\n",
      "Temprature =  284.08\n",
      "Pressure =  1019\n",
      "Humidity =  90\n",
      "Wind Speed =  3.6\n",
      "Description =  overcast clouds\n"
     ]
    }
   ],
   "source": [
    "current_weather = current_forecast[\"current\"]\n",
    "\n",
    "#Formatting unix epoch time into date format\n",
    "date_time = datetime.datetime.fromtimestamp(current_weather[\"dt\"]).strftime('%Y-%m-%d')\n",
    "\n",
    "curr_temp  = current_weather[\"temp\"]\n",
    "curr_press = current_weather[\"pressure\"]\n",
    "curr_humid = current_weather[\"humidity\"]\n",
    "curr_ws    = current_weather[\"wind_speed\"]\n",
    "curr_desc  = current_weather[\"weather\"][0][\"description\"]\n",
    "\n",
    "print(\"Date = \", date_time)\n",
    "print(\"Temprature = \", curr_temp)\n",
    "print(\"Pressure = \", curr_press)\n",
    "print(\"Humidity = \", curr_humid)\n",
    "print(\"Wind Speed = \", curr_ws)\n",
    "print(\"Description = \", curr_desc)"
   ]
  },
  {
   "cell_type": "code",
   "execution_count": 7,
   "id": "85bf644d",
   "metadata": {},
   "outputs": [],
   "source": [
    "forecast_weather = current_forecast[\"daily\"]"
   ]
  },
  {
   "cell_type": "code",
   "execution_count": 8,
   "id": "f5290c0e",
   "metadata": {},
   "outputs": [],
   "source": [
    "#List of forecasted data of daily data\n",
    "daily_data = []\n",
    "\n",
    "for weather_data in forecast_weather:\n",
    "    \n",
    "    #Store the values of every row data in dictionary\n",
    "    dt = dict()\n",
    "    \n",
    "    #d[\"date\"] = datetime.datetime.fromtimestamp(weather_data[\"dt\"]).strftime('%Y-%m-%d %H:%M:%S')\n",
    "    dt[\"date\"] = datetime.datetime.fromtimestamp(weather_data[\"dt\"])\n",
    "    dt[\"min_temp\"]    = (weather_data[\"temp\"][\"min\"])\n",
    "    dt[\"max_temp\"]    = (weather_data[\"temp\"][\"max\"])\n",
    "    dt[\"pressure\"]    = (weather_data[\"pressure\"])\n",
    "    dt[\"humidity\"]    = (weather_data[\"humidity\"])\n",
    "    dt[\"wind_speed\"]  = (weather_data[\"wind_speed\"])\n",
    "    dt[\"description\"] = (weather_data[\"weather\"][0][\"description\"])\n",
    "    \n",
    "    #print(\"date=\", dt[\"date\"],\"min=\", dt[\"min_temp\"],\"max=\",dt[\"max_temp\"],\n",
    "    #      \"pressure=\",dt[\"pressure\"],\"humidity=\",dt[\"humidity\"],\n",
    "    #      \"wind speed=\",dt[\"wind_speed\"],\"description=\",dt[\"description\"])\n",
    "    \n",
    "    #Adding data into list\n",
    "    daily_data.append(dt)"
   ]
  },
  {
   "cell_type": "code",
   "execution_count": 9,
   "id": "fb7a9ec7",
   "metadata": {},
   "outputs": [
    {
     "name": "stdout",
     "output_type": "stream",
     "text": [
      "                 date  min_temp  max_temp  pressure  humidity  wind_speed  \\\n",
      "0 2022-05-12 16:30:00    281.48    291.85      1018        52        5.97   \n",
      "1 2022-05-13 16:30:00    282.42    292.49      1020        49        5.59   \n",
      "2 2022-05-14 16:30:00    281.95    294.71      1021        39        3.34   \n",
      "3 2022-05-15 16:30:00    285.66    295.44      1015        58        4.85   \n",
      "4 2022-05-16 16:30:00    287.25    296.42      1017        51        3.26   \n",
      "5 2022-05-17 16:30:00    286.24    298.52      1021        38        4.66   \n",
      "6 2022-05-18 16:30:00    287.99    294.87      1015        42        5.15   \n",
      "7 2022-05-19 16:30:00    285.68    294.50      1021        36        4.51   \n",
      "\n",
      "       description  \n",
      "0    broken clouds  \n",
      "1  overcast clouds  \n",
      "2       few clouds  \n",
      "3       light rain  \n",
      "4       light rain  \n",
      "5    broken clouds  \n",
      "6    broken clouds  \n",
      "7    broken clouds  \n"
     ]
    }
   ],
   "source": [
    "import pandas\n",
    "\n",
    "#creating dataframe of daily data \n",
    "#with pandas library \n",
    "df=pandas.DataFrame(daily_data)\n",
    "print(df)"
   ]
  },
  {
   "cell_type": "code",
   "execution_count": 10,
   "id": "2b646d2d",
   "metadata": {},
   "outputs": [
    {
     "data": {
      "text/html": [
       "<div>\n",
       "<style scoped>\n",
       "    .dataframe tbody tr th:only-of-type {\n",
       "        vertical-align: middle;\n",
       "    }\n",
       "\n",
       "    .dataframe tbody tr th {\n",
       "        vertical-align: top;\n",
       "    }\n",
       "\n",
       "    .dataframe thead th {\n",
       "        text-align: right;\n",
       "    }\n",
       "</style>\n",
       "<table border=\"1\" class=\"dataframe\">\n",
       "  <thead>\n",
       "    <tr style=\"text-align: right;\">\n",
       "      <th></th>\n",
       "      <th>Unnamed: 0</th>\n",
       "      <th>date</th>\n",
       "      <th>min_temp</th>\n",
       "      <th>max_temp</th>\n",
       "      <th>pressure</th>\n",
       "      <th>humidity</th>\n",
       "      <th>wind_speed</th>\n",
       "      <th>description</th>\n",
       "    </tr>\n",
       "  </thead>\n",
       "  <tbody>\n",
       "    <tr>\n",
       "      <th>0</th>\n",
       "      <td>0</td>\n",
       "      <td>2022-05-12 16:30:00</td>\n",
       "      <td>281.48</td>\n",
       "      <td>291.85</td>\n",
       "      <td>1018</td>\n",
       "      <td>52</td>\n",
       "      <td>5.97</td>\n",
       "      <td>broken clouds</td>\n",
       "    </tr>\n",
       "    <tr>\n",
       "      <th>1</th>\n",
       "      <td>1</td>\n",
       "      <td>2022-05-13 16:30:00</td>\n",
       "      <td>282.42</td>\n",
       "      <td>292.49</td>\n",
       "      <td>1020</td>\n",
       "      <td>49</td>\n",
       "      <td>5.59</td>\n",
       "      <td>overcast clouds</td>\n",
       "    </tr>\n",
       "    <tr>\n",
       "      <th>2</th>\n",
       "      <td>2</td>\n",
       "      <td>2022-05-14 16:30:00</td>\n",
       "      <td>281.95</td>\n",
       "      <td>294.71</td>\n",
       "      <td>1021</td>\n",
       "      <td>39</td>\n",
       "      <td>3.34</td>\n",
       "      <td>few clouds</td>\n",
       "    </tr>\n",
       "    <tr>\n",
       "      <th>3</th>\n",
       "      <td>3</td>\n",
       "      <td>2022-05-15 16:30:00</td>\n",
       "      <td>285.66</td>\n",
       "      <td>295.44</td>\n",
       "      <td>1015</td>\n",
       "      <td>58</td>\n",
       "      <td>4.85</td>\n",
       "      <td>light rain</td>\n",
       "    </tr>\n",
       "    <tr>\n",
       "      <th>4</th>\n",
       "      <td>4</td>\n",
       "      <td>2022-05-16 16:30:00</td>\n",
       "      <td>287.25</td>\n",
       "      <td>296.42</td>\n",
       "      <td>1017</td>\n",
       "      <td>51</td>\n",
       "      <td>3.26</td>\n",
       "      <td>light rain</td>\n",
       "    </tr>\n",
       "  </tbody>\n",
       "</table>\n",
       "</div>"
      ],
      "text/plain": [
       "   Unnamed: 0                date  min_temp  max_temp  pressure  humidity  \\\n",
       "0           0 2022-05-12 16:30:00    281.48    291.85      1018        52   \n",
       "1           1 2022-05-13 16:30:00    282.42    292.49      1020        49   \n",
       "2           2 2022-05-14 16:30:00    281.95    294.71      1021        39   \n",
       "3           3 2022-05-15 16:30:00    285.66    295.44      1015        58   \n",
       "4           4 2022-05-16 16:30:00    287.25    296.42      1017        51   \n",
       "\n",
       "   wind_speed      description  \n",
       "0        5.97    broken clouds  \n",
       "1        5.59  overcast clouds  \n",
       "2        3.34       few clouds  \n",
       "3        4.85       light rain  \n",
       "4        3.26       light rain  "
      ]
     },
     "execution_count": 10,
     "metadata": {},
     "output_type": "execute_result"
    }
   ],
   "source": [
    "#writing dataframe into csv file\n",
    "df.to_csv(\"output.csv\")\n",
    "data = pandas.read_csv(\"output.csv\", parse_dates = ['date'])\n",
    "data.head()"
   ]
  },
  {
   "cell_type": "code",
   "execution_count": 11,
   "id": "58be00dd",
   "metadata": {},
   "outputs": [],
   "source": [
    "#Plotting data with bokeh library\n",
    "from bokeh.plotting import figure\n",
    "from bokeh.io import output_file, show\n",
    "\n",
    "x = df[\"date\"]\n",
    "y = df[\"humidity\"]\n",
    "\n",
    "#output html file with graph\n",
    "output_file(\"humidity_chart.html\")\n",
    "\n",
    "f = figure(x_axis_label='date', x_axis_type='datetime', y_axis_label='humidity')\n",
    "\n",
    "#create plot\n",
    "f.line(x,y)\n",
    "\n",
    "f.title = \"Humidity chart\"\n",
    "\n",
    "show(f)"
   ]
  },
  {
   "cell_type": "code",
   "execution_count": 12,
   "id": "5b5e6787",
   "metadata": {},
   "outputs": [],
   "source": [
    "from bokeh.plotting import figure, output_file, show\n",
    "from bokeh.models.ranges import Range1d\n",
    "\n",
    "#output html file with graph\n",
    "output_file(\"temp_chart.html\")\n",
    "\n",
    "x = df[\"date\"]\n",
    "y = df[\"min_temp\"]\n",
    "\n",
    "p = figure(plot_width=400, plot_height=400, x_axis_label='date',\n",
    "           x_axis_type='datetime',\n",
    "           y_axis_label='min temp')\n",
    "\n",
    "p.line(x, y, line_width=2, legend_label=\"min temp\")\n",
    "\n",
    "h = df[\"max_temp\"]\n",
    "\n",
    "# Correcting the bottom position of the bars to be on the 0 line.\n",
    "adj_h = h/2\n",
    "\n",
    "# add bar renderer\n",
    "p.rect(x=x, y=adj_h, width=0.4, height=h, color=\"#CAB2D6\",  legend_label=\"max temp\")\n",
    "\n",
    "# Setting the y  axis range   \n",
    "p.y_range = Range1d(290, 310)\n",
    "\n",
    "p.title = \"Day min and max temprature\"\n",
    "\n",
    "show(p)"
   ]
  },
  {
   "cell_type": "markdown",
   "id": "e21e6c8d",
   "metadata": {},
   "source": [
    "## Historical air pollution data"
   ]
  },
  {
   "cell_type": "code",
   "execution_count": 13,
   "id": "b1b8e314",
   "metadata": {},
   "outputs": [
    {
     "name": "stdout",
     "output_type": "stream",
     "text": [
      "{'coord': {'lon': -0.1257, 'lat': 51.5085}, 'list': []}\n"
     ]
    }
   ],
   "source": [
    "e_date = datetime.datetime.now()\n",
    "s_date =  e_date - datetime.timedelta(days = 5)\n",
    "start = int(datetime.datetime.timestamp(s_date)*1000)\n",
    "end = int(datetime.datetime.timestamp(e_date)*1000)\n",
    "\n",
    "#Complete url address\n",
    "complete_url = base_url + \"air_pollution/history?\" + \"appid=\" + api_key + \"&lat=\" + str(lat) + \"&lon=\" + str(lon) + \"&start=\" + str(start) + \"&end=\" + str(end)\n",
    "#print(complete_url)\n",
    "\n",
    "pd = requests.get(complete_url)\n",
    "\n",
    "pollution_data = pd.json()\n",
    "print(pollution_data)"
   ]
  }
 ],
 "metadata": {
  "kernelspec": {
   "display_name": "Python 3",
   "language": "python",
   "name": "python3"
  },
  "language_info": {
   "codemirror_mode": {
    "name": "ipython",
    "version": 3
   },
   "file_extension": ".py",
   "mimetype": "text/x-python",
   "name": "python",
   "nbconvert_exporter": "python",
   "pygments_lexer": "ipython3",
   "version": "3.8.8"
  }
 },
 "nbformat": 4,
 "nbformat_minor": 5
}
